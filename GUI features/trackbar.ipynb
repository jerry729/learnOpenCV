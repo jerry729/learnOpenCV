{
 "cells": [
  {
   "cell_type": "markdown",
   "metadata": {},
   "source": [
    "# 轨迹栏（Track bar）\n",
    "在这里，我们将创建一个简单的应用程序，以显示您指定的颜色。您有一个显示颜色的窗口，以及三个用于指定B、G、R颜色的跟踪栏。滑动轨迹栏，并相应地更改窗口颜色。默认情况下，初始颜色将设置为黑色。\n",
    "\n",
    "\n",
    "对于cv.createTrackbarPos()函数，第一个参数是轨迹栏名称，第二个参数是它附加到的窗口名称，第三个参数是默认值，第四个参数是最大值，第五个是执行的回调函数每次跟踪栏值更改。回调函数始终具有默认参数，即轨迹栏位置。在我们的例子中，函数什么都不做，所以我们简单地通过。\n",
    "\n",
    "\n",
    "轨迹栏的另一个重要应用是将其用作按钮或开关。默认情况下，OpenCV不具有按钮功能。因此，您可以使用轨迹栏获得此类功能。在我们的应用程序中，我们创建了一个开关，只有在该开关为ON的情况下，该应用程序才能在其中运行，否则屏幕始终为黑色。\n",
    "\n",
    "\n",
    "轨迹栏的另一个重要应用是将其用作按钮或开关。默认情况下，OpenCV不具有按钮功能。因此，您可以使用轨迹栏获得此类功能。在我们的应用程序中，我们创建了一个开关，只有在该开关为ON的情况下，该应用程序才能在其中运行，否则屏幕始终为黑色。"
   ]
  },
  {
   "cell_type": "code",
   "execution_count": 1,
   "metadata": {},
   "outputs": [],
   "source": [
    "import numpy as np\n",
    "import cv2"
   ]
  },
  {
   "cell_type": "code",
   "execution_count": null,
   "metadata": {},
   "outputs": [
    {
     "data": {
      "text/plain": [
       "array([[[1, 2, 3],\n",
       "        [1, 2, 3]],\n",
       "\n",
       "       [[1, 2, 3],\n",
       "        [1, 2, 3]],\n",
       "\n",
       "       [[1, 2, 3],\n",
       "        [1, 2, 3]],\n",
       "\n",
       "       [[1, 2, 3],\n",
       "        [1, 2, 3]]])"
      ]
     },
     "metadata": {},
     "output_type": "display_data"
    }
   ],
   "source": [
    "x = np.arange(24)\n",
    "x = x.reshape((4,2,3)) #宽 高 深\n",
    "x[:] = [1,2,3]\n",
    "x"
   ]
  },
  {
   "cell_type": "code",
   "execution_count": 17,
   "metadata": {},
   "outputs": [],
   "source": [
    "def nothing(x):\n",
    "    pass\n",
    "\n",
    "img = np.zeros((300, 512, 3), np.uint8)\n",
    "cv2.namedWindow('image')\n",
    "\n",
    "cv2.createTrackbar('R', 'image', 0, 255, nothing)\n",
    "cv2.createTrackbar('G', 'image', 0, 255, nothing)\n",
    "cv2.createTrackbar('B', 'image', 0, 255, nothing)\n",
    "switch = '0: OFF \\n1: ON'\n",
    "cv2.createTrackbar(switch, 'image', 0, 1, nothing)\n",
    "\n",
    "while(1):\n",
    "    cv2.imshow('image', img)\n",
    "    key = cv2.waitKey(1) & 0xFF\n",
    "    if key == 27:\n",
    "        break\n",
    "    r = cv2.getTrackbarPos('R', 'image')\n",
    "    g = cv2.getTrackbarPos('G', 'image')\n",
    "    b = cv2.getTrackbarPos('B', 'image')\n",
    "    s = cv2.getTrackbarPos(switch, 'image')\n",
    "\n",
    "    if s == 0:\n",
    "        img[:] = 0\n",
    "    else:\n",
    "        img[:] = [b, g, r]\n",
    "\n",
    "cv2.destroyAllWindows()"
   ]
  },
  {
   "cell_type": "markdown",
   "metadata": {},
   "source": [
    "[![5clFOJ.png](https://z3.ax1x.com/2021/10/22/5clFOJ.png)](https://imgtu.com/i/5clFOJ)"
   ]
  },
  {
   "cell_type": "code",
   "execution_count": 19,
   "metadata": {},
   "outputs": [],
   "source": [
    "def nothing(x):\n",
    "    pass\n",
    "\n",
    "drawing = False\n",
    "ix, iy = -1, -1\n",
    "def draw_circle(event, x, y, flag, param):\n",
    "    global ix, iy, drawing\n",
    "    if event == cv2.EVENT_LBUTTONDOWN:\n",
    "        drawing = True\n",
    "        ix, iy = x, y\n",
    "    if event == cv2.EVENT_MOUSEMOVE:\n",
    "        if drawing == True:\n",
    "            cv2.circle(img, (x,y), ra, (b, g, r), -1)\n",
    "    elif event == cv2.EVENT_LBUTTONUP:\n",
    "        drawing = False\n",
    "        cv2.circle(img, (x,y), ra, (b, g, r), -1)\n",
    "\n",
    "img = np.zeros((300, 512, 3), np.uint8)\n",
    "cv2.namedWindow('image')\n",
    "\n",
    "cv2.createTrackbar('R', 'image', 0, 255, nothing)\n",
    "cv2.createTrackbar('G', 'image', 0, 255, nothing)\n",
    "cv2.createTrackbar('B', 'image', 0, 255, nothing)\n",
    "cv2.createTrackbar('radius', 'image', 1, 8, nothing)\n",
    "switch = '0: OFF \\n1: ON'\n",
    "cv2.createTrackbar(switch, 'image', 0, 1, nothing)\n",
    "\n",
    "cv2.namedWindow('image')\n",
    "cv2.setMouseCallback('image', draw_circle)\n",
    "\n",
    "while(1):\n",
    "    cv2.imshow('image', img)\n",
    "    key = cv2.waitKey(1) & 0xFF\n",
    "    if key == 27:\n",
    "        break\n",
    "    r = cv2.getTrackbarPos('R', 'image')\n",
    "    g = cv2.getTrackbarPos('G', 'image')\n",
    "    b = cv2.getTrackbarPos('B', 'image')\n",
    "    s = cv2.getTrackbarPos(switch, 'image')\n",
    "    ra = cv2.getTrackbarPos('radius', 'image')\n",
    "    if s == 0:\n",
    "        img[:] = 0\n",
    "\n",
    "cv2.destroyAllWindows()"
   ]
  },
  {
   "cell_type": "markdown",
   "metadata": {},
   "source": [
    "[![5c3hw9.png](https://z3.ax1x.com/2021/10/22/5c3hw9.png)](https://imgtu.com/i/5c3hw9)\n",
    "\n",
    "[![5c8i6S.png](https://z3.ax1x.com/2021/10/22/5c8i6S.png)](https://imgtu.com/i/5c8i6S)"
   ]
  }
 ],
 "metadata": {
  "interpreter": {
   "hash": "36016557d817544126ef24495ef0978491bf83ac7ee6a069809202ab5c141574"
  },
  "kernelspec": {
   "display_name": "Python 3.8.12 64-bit ('d2l': conda)",
   "name": "python3"
  },
  "language_info": {
   "codemirror_mode": {
    "name": "ipython",
    "version": 3
   },
   "file_extension": ".py",
   "mimetype": "text/x-python",
   "name": "python",
   "nbconvert_exporter": "python",
   "pygments_lexer": "ipython3",
   "version": "3.8.12"
  },
  "orig_nbformat": 4
 },
 "nbformat": 4,
 "nbformat_minor": 2
}
