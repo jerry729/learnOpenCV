{
 "cells": [
  {
   "cell_type": "code",
   "execution_count": 3,
   "source": [
    "import numpy as np\r\n",
    "import cv2 as cv\r\n",
    "import math\r\n",
    "\r\n",
    "img = np.ones((512, 512, 3), np.uint8)*255\r\n",
    "\r\n",
    "color_red = (0, 0, 255)\r\n",
    "color_green = (0, 255, 0)\r\n",
    "color_blue = (255, 0, 0)\r\n",
    "color_white = (255, 255, 255)\r\n",
    "color_black = (0, 0, 0)\r\n",
    "\r\n",
    "r1 = 70\r\n",
    "r2 = 30\r\n",
    "l = 170\r\n",
    "h = int(l / 2 * math.sqrt(3))\r\n",
    "\r\n",
    "\r\n",
    "dot_red = (256, 128)\r\n",
    "dot_green = (int(256 - l / 2), 128 + h)\r\n",
    "dot_blue = (int(256 + l / 2), 128 + h)\r\n",
    "\r\n",
    "cv.ellipse(img, dot_red, (r1,r1), 120, 0, 300, color_red, -1)\r\n",
    "cv.circle(img, dot_red, r2, color_white, -1)\r\n",
    "\r\n",
    "cv.ellipse(img, dot_green, (r1, r1), 0, 0, 300, color_green, -1)\r\n",
    "cv.circle(img, dot_green, r2, color_white, -1)\r\n",
    "\r\n",
    "cv.ellipse(img, dot_blue, (r1, r1), 300, 0,300, color_blue, -1)\r\n",
    "cv.circle(img, dot_blue, r2, color_white, -1)\r\n",
    "\r\n",
    "font = cv.FONT_HERSHEY_SIMPLEX\r\n",
    "cv.putText(img, 'OpenCV', (15,450), font, 4, color_black, 10)\r\n",
    "\r\n",
    "cv.imshow('image', img)\r\n",
    "cv.waitKey(0)\r\n",
    "cv.destroyAllWindows()"
   ],
   "outputs": [],
   "metadata": {}
  },
  {
   "cell_type": "markdown",
   "source": [
    "[![5p7lhF.png](https://z3.ax1x.com/2021/10/07/5p7lhF.png)](https://imgtu.com/i/5p7lhF)"
   ],
   "metadata": {}
  }
 ],
 "metadata": {
  "orig_nbformat": 4,
  "language_info": {
   "name": "python",
   "version": "3.6.2",
   "mimetype": "text/x-python",
   "codemirror_mode": {
    "name": "ipython",
    "version": 3
   },
   "pygments_lexer": "ipython3",
   "nbconvert_exporter": "python",
   "file_extension": ".py"
  },
  "kernelspec": {
   "name": "python3",
   "display_name": "Python 3.6.2 64-bit ('learnOpenCV': conda)"
  },
  "interpreter": {
   "hash": "5f9acb33af378f2944046bf60dc11545c477b0561acd49a14d04db11a3c98a3b"
  }
 },
 "nbformat": 4,
 "nbformat_minor": 2
}