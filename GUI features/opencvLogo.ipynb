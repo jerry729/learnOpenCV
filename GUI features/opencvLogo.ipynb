{
 "cells": [
  {
   "cell_type": "code",
   "execution_count": 3,
   "metadata": {},
   "outputs": [],
   "source": [
    "import numpy as np\n",
    "import cv2 as cv\n",
    "import math\n",
    "\n",
    "img = np.ones((512, 512, 3), np.uint8)*255\n",
    "\n",
    "color_red = (0, 0, 255)\n",
    "color_green = (0, 255, 0)\n",
    "color_blue = (255, 0, 0)\n",
    "color_white = (255, 255, 255)\n",
    "color_black = (0, 0, 0)\n",
    "\n",
    "r1 = 70\n",
    "r2 = 30\n",
    "l = 170\n",
    "h = int(l / 2 * math.sqrt(3))\n",
    "\n",
    "\n",
    "dot_red = (256, 128)\n",
    "dot_green = (int(256 - l / 2), 128 + h)\n",
    "dot_blue = (int(256 + l / 2), 128 + h)\n",
    "\n",
    "cv.ellipse(img, dot_red, (r1,r1), 120, 0, 300, color_red, -1)\n",
    "cv.circle(img, dot_red, r2, color_white, -1)\n",
    "\n",
    "cv.ellipse(img, dot_green, (r1, r1), 0, 0, 300, color_green, -1)\n",
    "cv.circle(img, dot_green, r2, color_white, -1)\n",
    "\n",
    "cv.ellipse(img, dot_blue, (r1, r1), 300, 0,300, color_blue, -1)\n",
    "cv.circle(img, dot_blue, r2, color_white, -1)\n",
    "\n",
    "font = cv.FONT_HERSHEY_SIMPLEX\n",
    "cv.putText(img, 'OpenCV', (15,450), font, 4, color_black, 10)\n",
    "\n",
    "cv.imshow('image', img)\n",
    "cv.waitKey(0)\n",
    "cv.destroyAllWindows()"
   ]
  },
  {
   "cell_type": "markdown",
   "metadata": {},
   "source": [
    "[![5p7lhF.png](https://z3.ax1x.com/2021/10/07/5p7lhF.png)](https://imgtu.com/i/5p7lhF)"
   ]
  }
 ],
 "metadata": {
  "interpreter": {
   "hash": "5f9acb33af378f2944046bf60dc11545c477b0561acd49a14d04db11a3c98a3b"
  },
  "kernelspec": {
   "display_name": "Python 3.7.11 64-bit ('learnOpenCV': conda)",
   "name": "python3"
  },
  "language_info": {
   "codemirror_mode": {
    "name": "ipython",
    "version": 3
   },
   "file_extension": ".py",
   "mimetype": "text/x-python",
   "name": "python",
   "nbconvert_exporter": "python",
   "pygments_lexer": "ipython3",
   "version": "3.7.11"
  },
  "orig_nbformat": 4
 },
 "nbformat": 4,
 "nbformat_minor": 2
}
