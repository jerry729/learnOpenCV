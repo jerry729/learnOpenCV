{
 "cells": [
  {
   "cell_type": "markdown",
   "source": [
    "# 视频入门"
   ],
   "metadata": {}
  },
  {
   "cell_type": "code",
   "execution_count": 2,
   "source": [
    "import numpy as np\r\n",
    "import cv2 as cv"
   ],
   "outputs": [],
   "metadata": {}
  },
  {
   "cell_type": "markdown",
   "source": [
    "## 视频处理\r\n",
    "要捕获视频，你需要创建一个 VideoCapture 对象。它的参数可以是设备索引或视频文件的名称。设备索引就是指定哪个摄像头的数字。正常情况下，一个摄像头会被连接(就像我的情况一样)。简单地传0(或-1)。你可以通过传递1来选择第二个相机，以此类推。在此之后，你可以逐帧捕获。但是在最后，不要忘记释放俘虏。\r\n",
    "\r\n",
    "`cap.read()`返回布尔值(`True`/ `False`)。如果正确读取了帧，它将为True。因此，你可以通过检查此返回值来检查视频的结尾。\r\n",
    "\r\n",
    "有时，cap可能尚未初始化捕获。在这种情况下，此代码显示错误。你可以通过**cap.isOpened**()方法检查它是否已初始化。如果是`True`，那么确定。否则，使用**cap.open**()打开它。\r\n",
    "\r\n",
    "你还可以使用`cap.get(propId)`方法访问该视频的某些功能，其中`propId`是0到18之间的一个数字。每个数字表示视频的属性（如果适用于该视频），并且可以显示完整的详细信息在这里看到：<b>cv::VideoCapture::get()<b>。其中一些值可以使用`cap.set(propId，value)`进行修改。`value`是你想要的新值。\r\n",
    "\r\n",
    "例如，我可以通过`cap.get(cv.CAP_PROP_FRAME_WIDTH)`和`cap.get(cv.CAP_PROP_FRAME_HEIGHT)`检查框架的宽度和高度。默认情况下，它的分辨率为640x480。但我想将其修改为320x240。只需使用和即可。`ret = cap.set(cv.CAP_PROP_FRAME_WIDTH,320)` and `ret = cap.set(cv.CAP_PROP_FRAME_HEIGHT,240)`."
   ],
   "metadata": {}
  },
  {
   "cell_type": "markdown",
   "source": [
    "### 从相机读取视频"
   ],
   "metadata": {}
  },
  {
   "cell_type": "code",
   "execution_count": 4,
   "source": [
    "cap = cv.VideoCapture(0)\r\n",
    "if not cap.isOpened():\r\n",
    "    print(\"Cannot open camera\")\r\n",
    "    exit()\r\n",
    "while True:\r\n",
    "    ret, frame = cap.read()\r\n",
    "    if not ret:\r\n",
    "        print(\"Can't receive frame (stream end?). Exiting...\")\r\n",
    "        break\r\n",
    "    \r\n",
    "    gray = cv.cvtColor(frame, cv.COLOR_BGR2GRAY)\r\n",
    "    cv.imshow('frame', gray)\r\n",
    "\r\n",
    "    if cv.waitKey(1) == ord('q'):\r\n",
    "        break\r\n",
    "\r\n",
    "cap.release()\r\n",
    "cv.destroyAllWindows()"
   ],
   "outputs": [],
   "metadata": {}
  },
  {
   "cell_type": "code",
   "execution_count": 5,
   "source": [
    "cap = cv.VideoCapture(0)\r\n",
    "if not cap.isOpened():\r\n",
    "    print(\"Cannot open camera\")\r\n",
    "    exit()\r\n",
    "\r\n",
    "print(cap.get(cv.CAP_PROP_FRAME_WIDTH), cap.get(cv.CAP_PROP_FRAME_HEIGHT))\r\n",
    "\r\n",
    "cap.set(cv.CAP_PROP_FRAME_WIDTH, 320)\r\n",
    "cap.set(cv.CAP_PROP_FRAME_HEIGHT, 240)\r\n",
    "\r\n",
    "while True:\r\n",
    "    ret, frame = cap.read()\r\n",
    "    if not ret:\r\n",
    "        print(\"Cannot receive frame (stream end?). Exiting...\")\r\n",
    "        break\r\n",
    "\r\n",
    "    gray = cv.cvtColor(frame, cv.COLOR_BGR2HSV)\r\n",
    "    cv.imshow('frame', gray)\r\n",
    "\r\n",
    "    if cv.waitKey(1) == ord('q'):\r\n",
    "        break\r\n",
    "\r\n",
    "cap.release()\r\n",
    "cv.destroyAllWindows()"
   ],
   "outputs": [
    {
     "output_type": "stream",
     "name": "stdout",
     "text": [
      "640.0 480.0\n"
     ]
    }
   ],
   "metadata": {}
  },
  {
   "cell_type": "markdown",
   "source": [
    "### 从文件读取视频\r\n",
    "它与从相机捕获相同，只是用视频文件名更改摄像机索引。另外，在显示框架时，请使用适当的时间`cv.waitKey()`。如果太小，则视频将非常快，而如果太大，则视频将变得很慢（嗯，这就是显示慢动作的方式）。正常情况下25毫秒就可以了。"
   ],
   "metadata": {}
  },
  {
   "cell_type": "code",
   "execution_count": 3,
   "source": [
    "cap2 = cv.VideoCapture('test_video.mp4')\r\n",
    "while cap2.isOpened():\r\n",
    "    ret, frame = cap2.read()\r\n",
    "\r\n",
    "    if not ret:\r\n",
    "        print(\"Cannot receive frame (stream end?). Exiting...\")\r\n",
    "        break\r\n",
    "\r\n",
    "    gray = cv.cvtColor(frame, cv.COLOR_BGR2GRAY)\r\n",
    "    cv.imshow('frame', gray)\r\n",
    "\r\n",
    "    if cv.waitKey(30) == ord('q'):\r\n",
    "        break\r\n",
    "\r\n",
    "cap2.release()\r\n",
    "cv.destroyAllWindows()"
   ],
   "outputs": [],
   "metadata": {}
  },
  {
   "cell_type": "markdown",
   "source": [
    "### 保存视频\r\n",
    "图象用`cv.imwrite()`. 视频创建**VideoWriter**对象，我们应该指定输出文件名(例如: output.avi)。然后我们应该指定 FourCC 代码(详见下一段)。然后传递帧率的数量和帧大小。最后一个是颜色标志。如果为 True，编码器期望颜色帧，否则它与灰度帧一起工作。\r\n",
    "FourCC：http://en.wikipedia.org/wiki/FourCC 是用于指定视频编解码器的4字节代码。可用代码列表可在fourcc.org中:http://www.fourcc.org/codecs.php 找到。它取决于平台。遵循编解码器对我来说效果很好。\r\n",
    "* 在Fedora中：DIVX，XVID，MJPG，X264，WMV1，WMV2。（最好使用XVID。MJPG会生成大尺寸的视频。X264会生成非常小的尺寸的视频）\r\n",
    "* 在Windows中：DIVX（尚待测试和添加）\r\n",
    "* 在OSX中：MJPG（.mp4），DIVX（.avi），X264（.mkv）。\r\n",
    "FourCC代码作为MJPG的`cv.VideoWriter_fourcc（'M'，'J'，'P'，'G'）`or `cv.VideoWriter_fourcc（*'MJPG'）`传递。"
   ],
   "metadata": {}
  },
  {
   "cell_type": "code",
   "execution_count": 3,
   "source": [
    "# 从摄像机捕获，沿垂直方向反转每一帧并保存\r\n",
    "cap3 = cv.VideoCapture(0)\r\n",
    "fourcc = cv.VideoWriter_fourcc(*'MJPG')\r\n",
    "out = cv.VideoWriter('output.avi', fourcc, 20.0, (640, 480))\r\n",
    "while cap3.isOpened():\r\n",
    "    ret, frame = cap3.read()\r\n",
    "    if not ret:\r\n",
    "        print('Cannot receive frame (Stream end?). Exiting...')\r\n",
    "        break\r\n",
    "    frame = cv.flip(frame, 0) #垂直翻转\r\n",
    "    out.write(frame)\r\n",
    "    cv.imshow('frame',frame)\r\n",
    "    if cv.waitKey(1) == ord('q'):\r\n",
    "        break\r\n",
    "\r\n",
    "cap3.release()\r\n",
    "out.release()\r\n",
    "cv.destroyAllWindows()"
   ],
   "outputs": [],
   "metadata": {}
  }
 ],
 "metadata": {
  "orig_nbformat": 4,
  "language_info": {
   "name": "python",
   "version": "3.6.2",
   "mimetype": "text/x-python",
   "codemirror_mode": {
    "name": "ipython",
    "version": 3
   },
   "pygments_lexer": "ipython3",
   "nbconvert_exporter": "python",
   "file_extension": ".py"
  },
  "kernelspec": {
   "name": "python3",
   "display_name": "Python 3.6.2 64-bit ('learnOpenCV': conda)"
  },
  "interpreter": {
   "hash": "5f9acb33af378f2944046bf60dc11545c477b0561acd49a14d04db11a3c98a3b"
  }
 },
 "nbformat": 4,
 "nbformat_minor": 2
}