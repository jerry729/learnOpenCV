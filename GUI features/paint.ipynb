{
 "cells": [
  {
   "cell_type": "markdown",
   "source": [
    "# OpenCV中的绘图功能\r\n",
    "**cv.line()，cv.circle()，cv.rectangle()，cv.ellipse()，cv.putText()**\r\n",
    "\r\n",
    "在上述所有功能中，您将看到一些常见的参数，如下所示：\r\n",
    "* img：您要绘制形状的图像\r\n",
    "* color：形状的颜色。对于BGR，将其作为元组传递，例如：(255,0,0)对于蓝色。对于灰度，只需传递标量值即可。\r\n",
    "* 厚度：线或圆等的粗细。如果对闭合图形（如圆）传递-1 ，它将填充形状。默认厚度= 1\r\n",
    "* lineType：线的类型，是否为8连接线，抗锯齿线等。默认情况下，为8连接线。**cv.LINE_AA**给出了抗锯齿的线条，看起来非常适合曲线。"
   ],
   "metadata": {}
  },
  {
   "cell_type": "code",
   "execution_count": 13,
   "source": [
    "import numpy as np\r\n",
    "import cv2 as cv"
   ],
   "outputs": [],
   "metadata": {}
  },
  {
   "cell_type": "markdown",
   "source": [
    "## 画线\r\n",
    "开始，结束坐标"
   ],
   "metadata": {}
  },
  {
   "cell_type": "code",
   "execution_count": 14,
   "source": [
    "img = np.zeros((512, 512, 3), np.uint8) # 创建黑色图象\r\n",
    "cv.line(img, (0,0), (511,511), (255,0,0), 5)\r\n",
    "cv.imshow('image', img)\r\n",
    "cv.waitKey(0)\r\n",
    "cv.destroyAllWindows()"
   ],
   "outputs": [],
   "metadata": {}
  },
  {
   "cell_type": "markdown",
   "source": [
    "## 画矩形\r\n",
    "左上角， 右下角\r\n",
    "\r\n",
    "横轴x 竖轴y"
   ],
   "metadata": {}
  },
  {
   "cell_type": "code",
   "execution_count": 15,
   "source": [
    "cv.rectangle(img, (384,0), (510,128), (0, 255, 0), 3)\r\n",
    "cv.imshow('image', img)\r\n",
    "cv.waitKey(0)\r\n",
    "cv.destroyAllWindows()"
   ],
   "outputs": [],
   "metadata": {}
  },
  {
   "cell_type": "markdown",
   "source": [
    "## 画圆\r\n",
    "圆心，半径"
   ],
   "metadata": {}
  },
  {
   "cell_type": "code",
   "execution_count": 16,
   "source": [
    "cv.circle(img, (447,63), 63, (0,0,255), 5)\r\n",
    "cv.imshow('image', img)\r\n",
    "cv.waitKey(0)\r\n",
    "cv.destroyAllWindows()"
   ],
   "outputs": [],
   "metadata": {}
  },
  {
   "cell_type": "markdown",
   "source": [
    "[![5piBB8.png](https://z3.ax1x.com/2021/10/07/5piBB8.png)](https://imgtu.com/i/5piBB8)"
   ],
   "metadata": {}
  },
  {
   "cell_type": "markdown",
   "source": [
    "## 画椭圆\r\n",
    "* 中心(x,y)，\r\n",
    "* (长轴，短轴)\r\n",
    "* angle是椭圆沿逆时针方向旋转的角度。\r\n",
    "* startAngle和endAngle表示从主轴沿顺时针方向测量的椭圆弧的开始和结束。即给出0和360给出完整的椭圆"
   ],
   "metadata": {}
  },
  {
   "cell_type": "code",
   "execution_count": 17,
   "source": [
    "cv.ellipse(img, (256,256), (100, 50), 0, 0, 180, 255, -1)\r\n",
    "cv.imshow('image', img)\r\n",
    "cv.waitKey(0)\r\n",
    "cv.destroyAllWindows()"
   ],
   "outputs": [],
   "metadata": {}
  },
  {
   "cell_type": "markdown",
   "source": [
    "[![5pFu5Q.png](https://z3.ax1x.com/2021/10/07/5pFu5Q.png)](https://imgtu.com/i/5pFu5Q)"
   ],
   "metadata": {}
  },
  {
   "cell_type": "markdown",
   "source": [
    "**注意** 椭圆中的角度参数并不是普通的角度\r\n",
    "比如 设置从45°到225°会得到：\r\n",
    "\r\n",
    "[![5pG0KK.png](https://z3.ax1x.com/2021/10/07/5pG0KK.png)](https://imgtu.com/i/5pG0KK)\r\n",
    "\r\n",
    "它度量角度的坐标是根据椭圆的反三角函数（ arc-angles from an ellipse）而不是圆的反三角函数\r\n",
    "\r\n",
    "比如这个问题，画一个椭圆弧，给定椭圆的极值点和所有参数，除了OpenCV的开始和结束角度，我的解决方案是将椭圆转换为多边形，并切割出极值点所在的区域，因此在cv:：ellipse2poly（）之后：\r\n",
    "```cpp\r\n",
    "void cutOut(const std::vector<cv::Point> & pts,\r\n",
    "            std::vector<cv::Point> & poly, \r\n",
    "            const cv::Point2d & ext1, const cv::Point2d & ext2) const\r\n",
    "{\r\n",
    "    // whole ellipse\r\n",
    "    if ( ext1 == cv::Point2d(0.0,0.0)\r\n",
    "         && ext2 == cv::Point2d(0.0,0.0) )\r\n",
    "    {\r\n",
    "        return;\r\n",
    "    }\r\n",
    "\r\n",
    "    // get closest points on ellipse to given extremal points\r\n",
    "    double min1 = std::numeric_limits<double>::max();\r\n",
    "    double min2 = std::numeric_limits<double>::max();\r\n",
    "    int min_ind1, min_ind2;\r\n",
    "    for( size_t i = 0; i < pts.size(); i++ ) {\r\n",
    "        double n1 = cv::norm(cv::Point2d(pts[i].x,pts[i].y) - ext1);\r\n",
    "        if ( n1 < min1 ) {\r\n",
    "            min_ind1 = i;\r\n",
    "            min1 = n1;\r\n",
    "        }\r\n",
    "        double n2 = cv::norm(cv::Point2d(pts[i].x,pts[i].y) - ext2);\r\n",
    "        if ( n2 < min2 ) {\r\n",
    "            min_ind2 = i;\r\n",
    "            min2 = n2;\r\n",
    "        }\r\n",
    "    }\r\n",
    "\r\n",
    "    // copy points to poly\r\n",
    "    if ( min_ind2 == min_ind1 ) {\r\n",
    "        poly = pts;\r\n",
    "    }\r\n",
    "    if ( min_ind2 < min_ind1 ) {\r\n",
    "        poly.insert(poly.begin(), pts.begin()+min_ind1, pts.end());\r\n",
    "        poly.insert(poly.end(),pts.begin(), pts.begin()+min_ind2+1);\r\n",
    "    } else {\r\n",
    "        poly.insert(poly.begin(), pts.begin()+min_ind1, pts.begin()+min_ind2+1);\r\n",
    "    }\r\n",
    "}\r\n",
    "```"
   ],
   "metadata": {}
  },
  {
   "cell_type": "markdown",
   "source": [
    "## 画多边形\r\n",
    "首先需要顶点的坐标。将这些点组成形状为ROWSx(1x2)的数组，其中ROWS是顶点数，并且其类型应为int32 \r\n",
    "实际上 如果第三个参数为False，将获得一条连接所有点的折线，而不是闭合形状。 **cv.polylines()**可用于绘制多条线。只需创建要绘制的所有线条的列表，然后将其传递给函数即可。所有线条将单独绘制。与为每条线调用**cv.line**相比，绘制一组线是一种更好，更快的方法。"
   ],
   "metadata": {}
  },
  {
   "cell_type": "code",
   "execution_count": 18,
   "source": [
    "pts = np.array([[10,5], [20,30], [70,20], [50,10]], np.int32) # 这里是先用arrary建了一个 rows*2的二维矩阵\r\n",
    "pts = pts.reshape((-1,1,2))  # 再用reshape成rows*1*2的数组 自动计算第0维长度\r\n",
    "cv.polylines(img, [pts], True, (0,255,255))\r\n",
    "cv.imshow('image', img)\r\n",
    "cv.waitKey(0)\r\n",
    "cv.destroyAllWindows()"
   ],
   "outputs": [],
   "metadata": {}
  },
  {
   "cell_type": "markdown",
   "source": [
    "[![5pu956.png](https://z3.ax1x.com/2021/10/07/5pu956.png)](https://imgtu.com/i/5pu956)"
   ],
   "metadata": {}
  },
  {
   "cell_type": "markdown",
   "source": [
    "## 添加文本\r\n",
    "* 文字数据\r\n",
    "* 位置坐标 数据开始的左下角\r\n",
    "* 字体类型（检查**cv.putText**文档以获取受支持的字体）\r\n",
    "* 字体比例（字体大小）\r\n",
    "* 常规的参数，例如颜色，厚度，线条类型等。为了获得更好的外观，建议使用lineType = **cv.LINE_AA**"
   ],
   "metadata": {}
  },
  {
   "cell_type": "code",
   "execution_count": 19,
   "source": [
    "help(cv.putText)"
   ],
   "outputs": [
    {
     "output_type": "stream",
     "name": "stdout",
     "text": [
      "Help on built-in function putText:\n",
      "\n",
      "putText(...)\n",
      "    putText(img, text, org, fontFace, fontScale, color[, thickness[, lineType[, bottomLeftOrigin]]]) -> img\n",
      "    .   @brief Draws a text string.\n",
      "    .   \n",
      "    .   The function cv::putText renders the specified text string in the image. Symbols that cannot be rendered\n",
      "    .   using the specified font are replaced by question marks. See #getTextSize for a text rendering code\n",
      "    .   example.\n",
      "    .   \n",
      "    .   @param img Image.\n",
      "    .   @param text Text string to be drawn.\n",
      "    .   @param org Bottom-left corner of the text string in the image.\n",
      "    .   @param fontFace Font type, see #HersheyFonts.\n",
      "    .   @param fontScale Font scale factor that is multiplied by the font-specific base size.\n",
      "    .   @param color Text color.\n",
      "    .   @param thickness Thickness of the lines used to draw a text.\n",
      "    .   @param lineType Line type. See #LineTypes\n",
      "    .   @param bottomLeftOrigin When true, the image data origin is at the bottom-left corner. Otherwise,\n",
      "    .   it is at the top-left corner.\n",
      "\n"
     ]
    }
   ],
   "metadata": {}
  },
  {
   "cell_type": "markdown",
   "source": [
    "| Enumerator ||\r\n",
    "|----------|------ |\r\n",
    "| cv.FONT_HERSHEY_SIMPLEX | normal size sans-serif font |\r\n",
    "| cv.FONT_HERSHEY_PLAIN | small size sans-serif font |\r\n",
    "| cv.FONT_HERSHEY_DUPLEX | normal size sans-serif font (more complex than FONT_HERSHEY_SIMPLEX) |\r\n",
    "| cv.FONT_HERSHEY_COMPLEX | normal size serif font |\r\n",
    "| cv.FONT_HERSHEY_TRIPLEX | normal size serif font (more complex than FONT_HERSHEY_COMPLEX) |\r\n",
    "| cv.FONT_HERSHEY_COMPLEX_SMALL | smaller version of FONT_HERSHEY_COMPLEX |\r\n",
    "| cv.FONT_HERSHEY_SCRIPT_SIMPLEX | hand-writing style font |\r\n",
    "| cv.FONT_HERSHEY_SCRIPT_COMPLEX | more complex variant of FONT_HERSHEY_SCRIPT_SIMPLEX |\r\n",
    "| cv.FONT_ITALIC | flag for italic font |"
   ],
   "metadata": {}
  },
  {
   "cell_type": "code",
   "execution_count": 20,
   "source": [
    "font = cv.FONT_HERSHEY_TRIPLEX\r\n",
    "cv.putText(img, 'openCV', (10,500), font, 4, (255,255,255), 2, cv.LINE_AA )\r\n",
    "cv.imshow('image', img)\r\n",
    "cv.waitKey(0)\r\n",
    "cv.destroyAllWindows()"
   ],
   "outputs": [],
   "metadata": {}
  }
 ],
 "metadata": {
  "orig_nbformat": 4,
  "language_info": {
   "name": "python",
   "version": "3.6.2",
   "mimetype": "text/x-python",
   "codemirror_mode": {
    "name": "ipython",
    "version": 3
   },
   "pygments_lexer": "ipython3",
   "nbconvert_exporter": "python",
   "file_extension": ".py"
  },
  "kernelspec": {
   "name": "python3",
   "display_name": "Python 3.6.2 64-bit ('learnOpenCV': conda)"
  },
  "interpreter": {
   "hash": "5f9acb33af378f2944046bf60dc11545c477b0561acd49a14d04db11a3c98a3b"
  }
 },
 "nbformat": 4,
 "nbformat_minor": 2
}