{
 "cells": [
  {
   "cell_type": "markdown",
   "metadata": {},
   "source": [
    "# OpenCV中的绘图功能\n",
    "**cv.line()，cv.circle()，cv.rectangle()，cv.ellipse()，cv.putText()**\n",
    "\n",
    "在上述所有功能中，您将看到一些常见的参数，如下所示：\n",
    "* img：您要绘制形状的图像\n",
    "* color：形状的颜色。对于BGR，将其作为元组传递，例如：(255,0,0)对于蓝色。对于灰度，只需传递标量值即可。\n",
    "* 厚度：线或圆等的粗细。如果对闭合图形（如圆）传递-1 ，它将填充形状。默认厚度= 1\n",
    "* lineType：线的类型，是否为8连接线，抗锯齿线等。默认情况下，为8连接线。**cv.LINE_AA**给出了抗锯齿的线条，看起来非常适合曲线。"
   ]
  },
  {
   "cell_type": "code",
   "execution_count": 13,
   "metadata": {},
   "outputs": [],
   "source": [
    "import numpy as np\n",
    "import cv2 as cv"
   ]
  },
  {
   "cell_type": "markdown",
   "metadata": {},
   "source": [
    "## 画线\n",
    "开始，结束坐标"
   ]
  },
  {
   "cell_type": "code",
   "execution_count": 14,
   "metadata": {},
   "outputs": [],
   "source": [
    "img = np.zeros((512, 512, 3), np.uint8) # 创建黑色图象\n",
    "cv.line(img, (0,0), (511,511), (255,0,0), 5)\n",
    "cv.imshow('image', img)\n",
    "cv.waitKey(0)\n",
    "cv.destroyAllWindows()"
   ]
  },
  {
   "cell_type": "markdown",
   "metadata": {},
   "source": [
    "## 画矩形\n",
    "左上角， 右下角\n",
    "\n",
    "横轴x 竖轴y"
   ]
  },
  {
   "cell_type": "code",
   "execution_count": 15,
   "metadata": {},
   "outputs": [],
   "source": [
    "cv.rectangle(img, (384,0), (510,128), (0, 255, 0), 3)\n",
    "cv.imshow('image', img)\n",
    "cv.waitKey(0)\n",
    "cv.destroyAllWindows()"
   ]
  },
  {
   "cell_type": "markdown",
   "metadata": {},
   "source": [
    "## 画圆\n",
    "圆心，半径"
   ]
  },
  {
   "cell_type": "code",
   "execution_count": 16,
   "metadata": {},
   "outputs": [],
   "source": [
    "cv.circle(img, (447,63), 63, (0,0,255), 5)\n",
    "cv.imshow('image', img)\n",
    "cv.waitKey(0)\n",
    "cv.destroyAllWindows()"
   ]
  },
  {
   "cell_type": "markdown",
   "metadata": {},
   "source": [
    "[![5piBB8.png](https://z3.ax1x.com/2021/10/07/5piBB8.png)](https://imgtu.com/i/5piBB8)"
   ]
  },
  {
   "cell_type": "markdown",
   "metadata": {},
   "source": [
    "## 画椭圆\n",
    "* 中心(x,y)，\n",
    "* (长轴，短轴)\n",
    "* angle是椭圆沿**顺**时针方向旋转的角度。\n",
    "* startAngle和endAngle表示从主轴沿顺时针方向测量的椭圆弧的开始和结束。即给出0和360给出完整的椭圆"
   ]
  },
  {
   "cell_type": "code",
   "execution_count": 22,
   "metadata": {},
   "outputs": [],
   "source": [
    "cv.ellipse(img, (256,256), (100, 50), 0, 0, 180, 255, -1)\n",
    "cv.imshow('image', img)\n",
    "cv.waitKey(0)\n",
    "cv.destroyAllWindows()"
   ]
  },
  {
   "cell_type": "markdown",
   "metadata": {},
   "source": [
    "[![5pFu5Q.png](https://z3.ax1x.com/2021/10/07/5pFu5Q.png)](https://imgtu.com/i/5pFu5Q)"
   ]
  },
  {
   "cell_type": "markdown",
   "metadata": {},
   "source": [
    "**注意** 椭圆中的角度参数并不是普通的角度\n",
    "比如 设置从45°到225°会得到：\n",
    "\n",
    "[![5pG0KK.png](https://z3.ax1x.com/2021/10/07/5pG0KK.png)](https://imgtu.com/i/5pG0KK)\n",
    "\n",
    "它度量角度的坐标是根据椭圆的反三角函数（ arc-angles from an ellipse）而不是圆的反三角函数\n",
    "\n",
    "比如这个问题，画一个椭圆弧，给定椭圆的极值点和所有参数，除了OpenCV的开始和结束角度，我的解决方案是将椭圆转换为多边形，并切割出极值点所在的区域，因此在cv:：ellipse2poly（）之后：\n",
    "```cpp\n",
    "void cutOut(const std::vector<cv::Point> & pts,\n",
    "            std::vector<cv::Point> & poly, \n",
    "            const cv::Point2d & ext1, const cv::Point2d & ext2) const\n",
    "{\n",
    "    // whole ellipse\n",
    "    if ( ext1 == cv::Point2d(0.0,0.0)\n",
    "         && ext2 == cv::Point2d(0.0,0.0) )\n",
    "    {\n",
    "        return;\n",
    "    }\n",
    "\n",
    "    // get closest points on ellipse to given extremal points\n",
    "    double min1 = std::numeric_limits<double>::max();\n",
    "    double min2 = std::numeric_limits<double>::max();\n",
    "    int min_ind1, min_ind2;\n",
    "    for( size_t i = 0; i < pts.size(); i++ ) {\n",
    "        double n1 = cv::norm(cv::Point2d(pts[i].x,pts[i].y) - ext1);\n",
    "        if ( n1 < min1 ) {\n",
    "            min_ind1 = i;\n",
    "            min1 = n1;\n",
    "        }\n",
    "        double n2 = cv::norm(cv::Point2d(pts[i].x,pts[i].y) - ext2);\n",
    "        if ( n2 < min2 ) {\n",
    "            min_ind2 = i;\n",
    "            min2 = n2;\n",
    "        }\n",
    "    }\n",
    "\n",
    "    // copy points to poly\n",
    "    if ( min_ind2 == min_ind1 ) {\n",
    "        poly = pts;\n",
    "    }\n",
    "    if ( min_ind2 < min_ind1 ) {\n",
    "        poly.insert(poly.begin(), pts.begin()+min_ind1, pts.end());\n",
    "        poly.insert(poly.end(),pts.begin(), pts.begin()+min_ind2+1);\n",
    "    } else {\n",
    "        poly.insert(poly.begin(), pts.begin()+min_ind1, pts.begin()+min_ind2+1);\n",
    "    }\n",
    "}\n",
    "```"
   ]
  },
  {
   "cell_type": "markdown",
   "metadata": {},
   "source": [
    "## 画多边形\n",
    "首先需要顶点的坐标。将这些点组成形状为ROWSx(1x2)的数组，其中ROWS是顶点数，并且其类型应为int32 \n",
    "实际上 如果第三个参数为False，将获得一条连接所有点的折线，而不是闭合形状。 **cv.polylines()**可用于绘制多条线。只需创建要绘制的所有线条的列表，然后将其传递给函数即可。所有线条将单独绘制。与为每条线调用**cv.line**相比，绘制一组线是一种更好，更快的方法。"
   ]
  },
  {
   "cell_type": "code",
   "execution_count": 18,
   "metadata": {},
   "outputs": [],
   "source": [
    "pts = np.array([[10,5], [20,30], [70,20], [50,10]], np.int32) # 这里是先用arrary建了一个 rows*2的二维矩阵\n",
    "pts = pts.reshape((-1,1,2))  # 再用reshape成rows*1*2的数组 自动计算第0维长度\n",
    "cv.polylines(img, [pts], True, (0,255,255))\n",
    "cv.imshow('image', img)\n",
    "cv.waitKey(0)\n",
    "cv.destroyAllWindows()"
   ]
  },
  {
   "cell_type": "markdown",
   "metadata": {},
   "source": [
    "[![5pu956.png](https://z3.ax1x.com/2021/10/07/5pu956.png)](https://imgtu.com/i/5pu956)"
   ]
  },
  {
   "cell_type": "markdown",
   "metadata": {},
   "source": [
    "## 添加文本\n",
    "* 文字数据\n",
    "* 位置坐标 数据开始的左下角\n",
    "* 字体类型（检查**cv.putText**文档以获取受支持的字体）\n",
    "* 字体比例（字体大小）\n",
    "* 常规的参数，例如颜色，厚度，线条类型等。为了获得更好的外观，建议使用lineType = **cv.LINE_AA**"
   ]
  },
  {
   "cell_type": "code",
   "execution_count": 19,
   "metadata": {},
   "outputs": [
    {
     "name": "stdout",
     "output_type": "stream",
     "text": [
      "Help on built-in function putText:\n",
      "\n",
      "putText(...)\n",
      "    putText(img, text, org, fontFace, fontScale, color[, thickness[, lineType[, bottomLeftOrigin]]]) -> img\n",
      "    .   @brief Draws a text string.\n",
      "    .   \n",
      "    .   The function cv::putText renders the specified text string in the image. Symbols that cannot be rendered\n",
      "    .   using the specified font are replaced by question marks. See #getTextSize for a text rendering code\n",
      "    .   example.\n",
      "    .   \n",
      "    .   @param img Image.\n",
      "    .   @param text Text string to be drawn.\n",
      "    .   @param org Bottom-left corner of the text string in the image.\n",
      "    .   @param fontFace Font type, see #HersheyFonts.\n",
      "    .   @param fontScale Font scale factor that is multiplied by the font-specific base size.\n",
      "    .   @param color Text color.\n",
      "    .   @param thickness Thickness of the lines used to draw a text.\n",
      "    .   @param lineType Line type. See #LineTypes\n",
      "    .   @param bottomLeftOrigin When true, the image data origin is at the bottom-left corner. Otherwise,\n",
      "    .   it is at the top-left corner.\n",
      "\n"
     ]
    }
   ],
   "source": [
    "help(cv.putText)"
   ]
  },
  {
   "cell_type": "markdown",
   "metadata": {},
   "source": [
    "| Enumerator ||\n",
    "|----------|------ |\n",
    "| cv.FONT_HERSHEY_SIMPLEX | normal size sans-serif font |\n",
    "| cv.FONT_HERSHEY_PLAIN | small size sans-serif font |\n",
    "| cv.FONT_HERSHEY_DUPLEX | normal size sans-serif font (more complex than FONT_HERSHEY_SIMPLEX) |\n",
    "| cv.FONT_HERSHEY_COMPLEX | normal size serif font |\n",
    "| cv.FONT_HERSHEY_TRIPLEX | normal size serif font (more complex than FONT_HERSHEY_COMPLEX) |\n",
    "| cv.FONT_HERSHEY_COMPLEX_SMALL | smaller version of FONT_HERSHEY_COMPLEX |\n",
    "| cv.FONT_HERSHEY_SCRIPT_SIMPLEX | hand-writing style font |\n",
    "| cv.FONT_HERSHEY_SCRIPT_COMPLEX | more complex variant of FONT_HERSHEY_SCRIPT_SIMPLEX |\n",
    "| cv.FONT_ITALIC | flag for italic font |"
   ]
  },
  {
   "cell_type": "code",
   "execution_count": 20,
   "metadata": {},
   "outputs": [],
   "source": [
    "font = cv.FONT_HERSHEY_TRIPLEX\n",
    "cv.putText(img, 'openCV', (10,500), font, 4, (255,255,255), 2, cv.LINE_AA )\n",
    "cv.imshow('image', img)\n",
    "cv.waitKey(0)\n",
    "cv.destroyAllWindows()"
   ]
  }
 ],
 "metadata": {
  "interpreter": {
   "hash": "5f9acb33af378f2944046bf60dc11545c477b0561acd49a14d04db11a3c98a3b"
  },
  "kernelspec": {
   "display_name": "Python 3.6.2 64-bit ('learnOpenCV': conda)",
   "name": "python3"
  },
  "language_info": {
   "codemirror_mode": {
    "name": "ipython",
    "version": 3
   },
   "file_extension": ".py",
   "mimetype": "text/x-python",
   "name": "python",
   "nbconvert_exporter": "python",
   "pygments_lexer": "ipython3",
   "version": "3.6.2"
  },
  "orig_nbformat": 4
 },
 "nbformat": 4,
 "nbformat_minor": 2
}
