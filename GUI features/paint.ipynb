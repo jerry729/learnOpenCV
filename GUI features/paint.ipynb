{
 "cells": [
  {
   "cell_type": "markdown",
   "source": [
    "# OpenCV中的绘图功能\r\n",
    "**cv.line()，cv.circle()，cv.rectangle()，cv.ellipse()，cv.putText()**\r\n",
    "\r\n",
    "在上述所有功能中，您将看到一些常见的参数，如下所示：\r\n",
    "* img：您要绘制形状的图像\r\n",
    "* color：形状的颜色。对于BGR，将其作为元组传递，例如：(255,0,0)对于蓝色。对于灰度，只需传递标量值即可。\r\n",
    "* 厚度：线或圆等的粗细。如果对闭合图形（如圆）传递-1 ，它将填充形状。默认厚度= 1\r\n",
    "* lineType：线的类型，是否为8连接线，抗锯齿线等。默认情况下，为8连接线。**cv.LINE_AA**给出了抗锯齿的线条，看起来非常适合曲线。"
   ],
   "metadata": {}
  },
  {
   "cell_type": "code",
   "execution_count": 1,
   "source": [
    "import numpy as np\r\n",
    "import cv2 as cv"
   ],
   "outputs": [],
   "metadata": {}
  },
  {
   "cell_type": "markdown",
   "source": [
    "## 画线\r\n",
    "开始，结束坐标"
   ],
   "metadata": {}
  },
  {
   "cell_type": "code",
   "execution_count": 3,
   "source": [
    "img = np.zeros((512, 512, 3), np.uint8) # 创建黑色图象\r\n",
    "cv.line(img, (0,0), (511,511), (255,0,0), 5)\r\n",
    "cv.imshow('image', img)\r\n",
    "cv.waitKey(0)\r\n",
    "cv.destroyAllWindows()"
   ],
   "outputs": [],
   "metadata": {}
  },
  {
   "cell_type": "markdown",
   "source": [
    "## 画矩形\r\n",
    "左上角， 右下角\r\n",
    "\r\n",
    "横轴x 竖轴y"
   ],
   "metadata": {}
  },
  {
   "cell_type": "code",
   "execution_count": 6,
   "source": [
    "cv.rectangle(img, (384,0), (510,128), (0, 255, 0), 3)\r\n",
    "cv.imshow('image', img)\r\n",
    "cv.waitKey(0)\r\n",
    "cv.destroyAllWindows()"
   ],
   "outputs": [],
   "metadata": {}
  },
  {
   "cell_type": "markdown",
   "source": [
    "## 画圆\r\n",
    "圆心，半径"
   ],
   "metadata": {}
  },
  {
   "cell_type": "code",
   "execution_count": 9,
   "source": [
    "cv.circle(img, (447,63), 63, (0,0,255), 5)\r\n",
    "cv.imshow('image', img)\r\n",
    "cv.waitKey(0)\r\n",
    "cv.destroyAllWindows()"
   ],
   "outputs": [],
   "metadata": {}
  },
  {
   "cell_type": "markdown",
   "source": [
    "[![5piBB8.png](https://z3.ax1x.com/2021/10/07/5piBB8.png)](https://imgtu.com/i/5piBB8)"
   ],
   "metadata": {}
  },
  {
   "cell_type": "markdown",
   "source": [
    "## 画椭圆\r\n",
    "* 中心(x,y)，\r\n",
    "* (长轴，短轴)\r\n",
    "* angle是椭圆沿逆时针方向旋转的角度。\r\n",
    "* startAngle和endAngle表示从主轴沿顺时针方向测量的椭圆弧的开始和结束。即给出0和360给出完整的椭圆"
   ],
   "metadata": {}
  },
  {
   "cell_type": "code",
   "execution_count": 10,
   "source": [
    "cv.ellipse(img, (256,256), (100, 50), 0, 0, 180, 255, -1)\r\n",
    "cv.imshow('image', img)\r\n",
    "cv.waitKey(0)\r\n",
    "cv.destroyAllWindows()"
   ],
   "outputs": [],
   "metadata": {}
  },
  {
   "cell_type": "markdown",
   "source": [
    "[![5pFu5Q.png](https://z3.ax1x.com/2021/10/07/5pFu5Q.png)](https://imgtu.com/i/5pFu5Q)"
   ],
   "metadata": {}
  }
 ],
 "metadata": {
  "orig_nbformat": 4,
  "language_info": {
   "name": "python",
   "version": "3.6.2",
   "mimetype": "text/x-python",
   "codemirror_mode": {
    "name": "ipython",
    "version": 3
   },
   "pygments_lexer": "ipython3",
   "nbconvert_exporter": "python",
   "file_extension": ".py"
  },
  "kernelspec": {
   "name": "python3",
   "display_name": "Python 3.6.2 64-bit ('learnOpenCV': conda)"
  },
  "interpreter": {
   "hash": "5f9acb33af378f2944046bf60dc11545c477b0561acd49a14d04db11a3c98a3b"
  }
 },
 "nbformat": 4,
 "nbformat_minor": 2
}