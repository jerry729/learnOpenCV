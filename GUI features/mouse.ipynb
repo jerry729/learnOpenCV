{
 "cells": [
  {
   "cell_type": "markdown",
   "metadata": {},
   "source": [
    "# 鼠标作为画笔\n",
    "列出所有可用事件"
   ]
  },
  {
   "cell_type": "code",
   "execution_count": 1,
   "metadata": {},
   "outputs": [],
   "source": [
    "import numpy as np\n",
    "import cv2 as cv"
   ]
  },
  {
   "cell_type": "code",
   "execution_count": 1,
   "metadata": {},
   "outputs": [
    {
     "name": "stdout",
     "output_type": "stream",
     "text": [
      "['EVENT_FLAG_ALTKEY', 'EVENT_FLAG_CTRLKEY', 'EVENT_FLAG_LBUTTON', 'EVENT_FLAG_MBUTTON', 'EVENT_FLAG_RBUTTON', 'EVENT_FLAG_SHIFTKEY', 'EVENT_LBUTTONDBLCLK', 'EVENT_LBUTTONDOWN', 'EVENT_LBUTTONUP', 'EVENT_MBUTTONDBLCLK', 'EVENT_MBUTTONDOWN', 'EVENT_MBUTTONUP', 'EVENT_MOUSEHWHEEL', 'EVENT_MOUSEMOVE', 'EVENT_MOUSEWHEEL', 'EVENT_RBUTTONDBLCLK', 'EVENT_RBUTTONDOWN', 'EVENT_RBUTTONUP']\n"
     ]
    }
   ],
   "source": [
    "events = [i for i in dir(cv) if 'EVENT' in i]\n",
    "print(events)"
   ]
  },
  {
   "cell_type": "markdown",
   "metadata": {},
   "source": [
    "首先，我们创建一个鼠标回调函数，该函数在发生鼠标事件时执行。鼠标事件可以是与鼠标相关的任何事物，例如左键按下，左键按下，左键双击等。它为我们提供了每个鼠标事件的坐标(x，y)。创建鼠标回调函数具有特定的格式，该格式在所有地方都相同。它仅在功能上有所不同。\n",
    "比如，我们的鼠标回调函数可以做一件事，在我们双击的地方绘制一个圆圈。"
   ]
  },
  {
   "cell_type": "code",
   "execution_count": 4,
   "metadata": {},
   "outputs": [],
   "source": [
    "# 鼠标回调函数\n",
    "def draw_circle(event, x, y, flags, param):\n",
    "    if event == cv.EVENT_LBUTTONDBLCLK: #lbutton double click\n",
    "        cv.circle(img, (x, y), 100, (255, 0, 0), -1)\n",
    "#创建黑色图像，一个窗口，并绑定功能到窗口\n",
    "img = np.zeros((512,512,3), np.uint8)\n",
    "cv.namedWindow('image')\n",
    "cv.setMouseCallback('image', draw_circle)\n",
    "while(1):\n",
    "    cv.imshow('image', img)\n",
    "    if cv.waitKey(20) & 0xff == 27: # ascii==27 that is escape\n",
    "        break\n",
    "cv.destroyAllWindows()"
   ]
  },
  {
   "cell_type": "markdown",
   "metadata": {},
   "source": [
    "[![56Zbef.png](https://z3.ax1x.com/2021/10/22/56Zbef.png)](https://imgtu.com/i/56Zbef)"
   ]
  },
  {
   "cell_type": "markdown",
   "metadata": {},
   "source": [
    "现在我们去寻找一个更好的应用。在这里，我们通过拖动鼠标来绘制矩形或圆形(取决于我们选择的模式) ，就像我们在 Paint 应用程序中所做的那样。所以我们的鼠标回调函数有两部分，一部分用于绘制矩形，另一部分用于绘制圆形。这个具体的例子对于创建和理解一些交互式应用程序非常有帮助，比如目标跟踪，图像分割地图等等"
   ]
  },
  {
   "cell_type": "code",
   "execution_count": 4,
   "metadata": {},
   "outputs": [],
   "source": [
    "drawing = False #按下鼠标则真\n",
    "mode = True #如果为真，绘制矩形，按 m 键可以切换到曲线\n",
    "ix, iy = -1, -1\n",
    "#鼠标回调函数\n",
    "def fancy_draw_circle(event, x, y, flags, param):\n",
    "    global ix, iy, drawing, mode\n",
    "    if event == cv.EVENT_LBUTTONDOWN:\n",
    "        drawing = True\n",
    "        ix, iy = x, y\n",
    "    elif event == cv.EVENT_MOUSEMOVE:\n",
    "        if drawing == True:\n",
    "            if mode == True:\n",
    "                cv.rectangle(img2, (ix, iy), (x, y), (0,255,0), -1)\n",
    "            else:\n",
    "                cv.circle(img2, (x, y), 5, (0,0,255), -1)\n",
    "    elif event == cv.EVENT_LBUTTONUP:\n",
    "        drawing = False\n",
    "        if mode == True:\n",
    "            cv.rectangle(img2, (ix,iy), (x,y), (0,255,0), -1)\n",
    "        else:\n",
    "            cv.circle(img2, (x,y), 5, (0,0,255), -1)\n",
    "\n",
    "img2 = np.zeros((512,512,3), np.uint8)\n",
    "cv.namedWindow('image')\n",
    "cv.setMouseCallback('image', fancy_draw_circle)\n",
    "while(1):\n",
    "    cv.imshow('image', img2)\n",
    "    if cv.waitKey(1) == ord('m'):\n",
    "        if mode == True:\n",
    "            mode = False\n",
    "        elif mode == False:\n",
    "            mode = True\n",
    "    if cv.waitKey(1) & 0xff == 27: # ascii==27 that is escape\n",
    "        break\n",
    "cv.destroyAllWindows()"
   ]
  },
  {
   "cell_type": "markdown",
   "metadata": {},
   "source": [
    "[![56bv5D.png](https://z3.ax1x.com/2021/10/22/56bv5D.png)](https://imgtu.com/i/56bv5D)"
   ]
  },
  {
   "cell_type": "code",
   "execution_count": 12,
   "metadata": {},
   "outputs": [],
   "source": [
    "drawing = False #按下鼠标则真\n",
    "mode = True #如果为真，绘制矩形，按 m 键可以切换到曲线\n",
    "ix, iy = -1, -1\n",
    "#鼠标回调函数\n",
    "def fancy_draw_circle(event, x, y, flags, param):\n",
    "    global ix, iy, drawing, mode\n",
    "    if event == cv.EVENT_LBUTTONDOWN:\n",
    "        drawing = True\n",
    "        ix, iy = x, y\n",
    "    elif event == cv.EVENT_MOUSEMOVE:\n",
    "        if drawing == True:\n",
    "            if mode == True:\n",
    "                cv.rectangle(img2, (ix, iy), (x, y), (0,255,0), 1)\n",
    "                a = x\n",
    "                b = y\n",
    "                if a != x | b != y:\n",
    "                    cv.rectangle(img2, (ix, iy), (x, y), (0,0,0), -1) #往拖动的地方填充黑色来解决\n",
    "            else:\n",
    "                cv.circle(img2, (x, y), 5, (0,0,255), -1)\n",
    "    elif event == cv.EVENT_LBUTTONUP:\n",
    "        drawing = False\n",
    "        if mode == True:\n",
    "            cv.rectangle(img2, (ix,iy), (x,y), (0,255,0), 1)\n",
    "        else:\n",
    "            cv.circle(img2, (x,y), 5, (0,0,255), -1)\n",
    "\n",
    "img2 = np.zeros((512,512,3), np.uint8)\n",
    "cv.namedWindow('image')\n",
    "cv.setMouseCallback('image', fancy_draw_circle)\n",
    "while(1):\n",
    "    cv.imshow('image', img2)\n",
    "    if cv.waitKey(1) == ord('m'):\n",
    "        if mode == True:\n",
    "            mode = False\n",
    "        elif mode == False:\n",
    "            mode = True\n",
    "    if cv.waitKey(1) & 0xff == 27: # ascii==27 that is escape\n",
    "        break\n",
    "cv.destroyAllWindows()"
   ]
  },
  {
   "cell_type": "markdown",
   "metadata": {},
   "source": [
    "[![56v8C8.png](https://z3.ax1x.com/2021/10/22/56v8C8.png)](https://imgtu.com/i/56v8C8)\n",
    "<br>可以看到并不是空心，只是填充了背景色"
   ]
  },
  {
   "cell_type": "code",
   "execution_count": null,
   "metadata": {},
   "outputs": [],
   "source": [
    "import argparse\n",
    "\n",
    "ref_point = []\n",
    "\n",
    "def shape_selection(event, x, y, flags, param):\n",
    "    global ref_point, crop\n",
    "    if event == cv.EVENT_LBUTTONDOWN:\n",
    "        ref_point = [(x,y)]\n",
    "    elif event == cv.EVENT_LBUTTONUP:\n",
    "        ref_point.append((x,y))\n",
    "        cv.rectangle(img, ref_point[0], ref_point[1], (0,255,0), 1)\n",
    "\n",
    "ap = argparse.ArgumentParser()\n",
    "ap.add_argument('-i', '--image', required=True, help='Path to the image')\n",
    "args = vars(ap.parse_args())\n",
    "\n",
    "path = './GUI features/images/' + args['image']\n",
    "img = cv.imread(path)\n",
    "clone = img.copy()\n",
    "cv.namedWindow('image')\n",
    "cv.setMouseCallback('image', shape_selection)\n",
    "\n",
    "while True:\n",
    "    cv.imshow('image', img)\n",
    "    key = cv.waitKey(1) & 0xFF\n",
    "\n",
    "    if key == ord('c'): #if c then reset the window\n",
    "        img = clone.copy()\n",
    "    elif key == ord('q'):\n",
    "        break\n",
    "\n",
    "cv.destroyAllWindows()"
   ]
  },
  {
   "cell_type": "markdown",
   "metadata": {},
   "source": [
    "[![5cF9DU.png](https://z3.ax1x.com/2021/10/22/5cF9DU.png)](https://imgtu.com/i/5cF9DU)"
   ]
  }
 ],
 "metadata": {
  "interpreter": {
   "hash": "36016557d817544126ef24495ef0978491bf83ac7ee6a069809202ab5c141574"
  },
  "kernelspec": {
   "display_name": "Python 3.8.12 64-bit ('d2l': conda)",
   "name": "python3"
  },
  "language_info": {
   "codemirror_mode": {
    "name": "ipython",
    "version": 3
   },
   "file_extension": ".py",
   "mimetype": "text/x-python",
   "name": "python",
   "nbconvert_exporter": "python",
   "pygments_lexer": "ipython3",
   "version": "3.8.12"
  },
  "orig_nbformat": 4
 },
 "nbformat": 4,
 "nbformat_minor": 2
}
