{
 "cells": [
  {
   "cell_type": "markdown",
   "metadata": {},
   "source": [
    "从图像提取三种色彩对象，大致思路和教程一样，只不过分别提取三种色彩的mask 然后三种mask相加 \n",
    "\n",
    "这里可以利用前面的trackbar来调试找到合适的hsv范围 但用教程上的+-10法比较方便"
   ]
  },
  {
   "cell_type": "code",
   "execution_count": 1,
   "metadata": {},
   "outputs": [],
   "source": [
    "import numpy as np\n",
    "import cv2 as cv"
   ]
  },
  {
   "cell_type": "code",
   "execution_count": 3,
   "metadata": {},
   "outputs": [
    {
     "name": "stdout",
     "output_type": "stream",
     "text": [
      "[[[  0 255 255]]] [[[ 60 255 255]]] [[[120 255 255]]]\n"
     ]
    }
   ],
   "source": [
    "red = np.uint8([[[0,0,255]]])\n",
    "green = np.uint8([[[0,255,0]]])\n",
    "blue = np.uint8([[[255,0,0]]])\n",
    "hsv_red = cv.cvtColor(red, cv.COLOR_BGR2HSV)\n",
    "hsv_green = cv.cvtColor(green, cv.COLOR_BGR2HSV)\n",
    "hsv_blue = cv.cvtColor(blue, cv.COLOR_BGR2HSV)\n",
    "print(hsv_red, hsv_green, hsv_blue)"
   ]
  },
  {
   "cell_type": "markdown",
   "metadata": {},
   "source": [
    "opencv中的hsv \n",
    "- Remember it uses BGR\n",
    "- Remember in openCV that HSV ranges are (0-179, 0-255, 0-255)\n",
    "- With the halving, you lose lots of color information, so if you need more definition, you can use cv2.RGB2HSV_FULL during color conversion and it’ll fit the range into 0-255 instead.\n",
    "\n",
    "hsv可以想象一个圆盘 边缘是饱和的红绿蓝，从边缘向中间就是混合白色，从圆盘上底到下底就是混合黑色，绕圆周旋转就是红—>绿->蓝"
   ]
  },
  {
   "cell_type": "code",
   "execution_count": 8,
   "metadata": {},
   "outputs": [],
   "source": [
    "cap = cv.VideoCapture(0)\n",
    "\n",
    "while(1):\n",
    "\n",
    "    _, frame = cap.read()\n",
    "    hsv = cv.cvtColor(frame, cv.COLOR_BGR2HSV)\n",
    "\n",
    "    lower_red = np.array([0, 50, 50])\n",
    "    upper_red = np.array([20, 255, 255])\n",
    "    lower_green = np.array([50, 50, 50])\n",
    "    upper_green = np.array([70, 255, 255])\n",
    "    lower_blue = np.array([110, 50, 50])\n",
    "    upper_blue = np.array([130, 255, 255])\n",
    "\n",
    "    #每个像素 三通道相与在范围内的都成255，否则都是0\n",
    "    mask_red = cv.inRange(hsv, lower_red, upper_red)\n",
    "    mask_green = cv.inRange(hsv, lower_green, upper_green)\n",
    "    mask_blue = cv.inRange(hsv, lower_blue, upper_blue)\n",
    "\n",
    "    mask1 = cv.add(mask_red, mask_green)\n",
    "    mask = cv.add(mask1, mask_blue)\n",
    "\n",
    "    res = cv.bitwise_and(frame, frame, mask=mask)\n",
    "\n",
    "    cv.imshow('frame', frame)\n",
    "    cv.imshow('mask', mask)\n",
    "    cv.imshow('res', res)\n",
    "    k = cv.waitKey(5) & 0xFF\n",
    "    if k ==27:\n",
    "        break\n",
    "\n",
    "cap.release()\n",
    "cv.destroyAllWindows()"
   ]
  },
  {
   "cell_type": "markdown",
   "metadata": {},
   "source": [
    "[![5Rwvmn.png](https://z3.ax1x.com/2021/10/24/5Rwvmn.png)](https://imgtu.com/i/5Rwvmn)\n",
    "\n",
    "[![5Rwxwq.png](https://z3.ax1x.com/2021/10/24/5Rwxwq.png)](https://imgtu.com/i/5Rwxwq)\n",
    "\n",
    "[![5RwzT0.png](https://z3.ax1x.com/2021/10/24/5RwzT0.png)](https://imgtu.com/i/5RwzT0)"
   ]
  }
 ],
 "metadata": {
  "interpreter": {
   "hash": "36016557d817544126ef24495ef0978491bf83ac7ee6a069809202ab5c141574"
  },
  "kernelspec": {
   "display_name": "Python 3.8.12 64-bit ('d2l': conda)",
   "name": "python3"
  },
  "language_info": {
   "codemirror_mode": {
    "name": "ipython",
    "version": 3
   },
   "file_extension": ".py",
   "mimetype": "text/x-python",
   "name": "python",
   "nbconvert_exporter": "python",
   "pygments_lexer": "ipython3",
   "version": "3.8.12"
  },
  "orig_nbformat": 4
 },
 "nbformat": 4,
 "nbformat_minor": 2
}
