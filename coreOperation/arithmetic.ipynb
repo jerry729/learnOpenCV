{
 "cells": [
  {
   "cell_type": "markdown",
   "metadata": {},
   "source": [
    "# 图像上的算术运算\n",
    "图像的几种算术运算，例如加法，减法，按位运算"
   ]
  },
  {
   "cell_type": "code",
   "execution_count": 1,
   "metadata": {},
   "outputs": [],
   "source": [
    "import numpy as np\n",
    "import cv2 as cv"
   ]
  },
  {
   "cell_type": "markdown",
   "metadata": {},
   "source": [
    "## 图像的加法\n",
    "可以通过OpenCV函数``cv.add()``或仅通过numpy操作``res = img1 + img2``添加两个图像。两个图像应具有相同的深度和类型，或者第二个图像可以只是一个标量值。\n",
    "\n",
    "**注意** OpenCV加法和Numpy加法之间有区别。OpenCV加法是饱和运算，而Numpy加法是模运算。"
   ]
  },
  {
   "cell_type": "code",
   "execution_count": 2,
   "metadata": {},
   "outputs": [
    {
     "name": "stdout",
     "output_type": "stream",
     "text": [
      "[[255]]\n",
      "[4]\n"
     ]
    }
   ],
   "source": [
    "x = np.uint8([250])\n",
    "y = np.uint8([10])\n",
    "print(cv.add(x, y)) # 250 + 10 = 260 => 255\n",
    "print(x + y)        # 250 + 10 % 256 = 4 "
   ]
  },
  {
   "cell_type": "markdown",
   "metadata": {},
   "source": [
    "## 图像融合\n",
    "同样是图像加法，但是对图像赋予不同的权重，以使其具有融合或透明的感觉。根据以下等式添加图像：\n",
    "$$G(x)=( 1-\\alpha )f_0(x) + \\alpha f_1(x)$$\n",
    "通过改变 $\\alpha$ 从0 -> 1， 可以让图像很酷过渡\n",
    "\n",
    "比如将两幅图像融合在一起。第一幅图像的权重为0.7，第二幅图像的权重为0.3。`cv.addWeighted()`在图像上应用以下公式\n",
    "$$dst=\\alpha \\cdot img1 + \\beta \\cdot img2 + \\gamma$$ \n",
    "在这里$\\gamma$被视作0"
   ]
  },
  {
   "cell_type": "code",
   "execution_count": 6,
   "metadata": {},
   "outputs": [],
   "source": [
    "img1 = cv.imread('./images/messi1.png')\n",
    "img1 = img1[26:560, 284:915]\n",
    "img2 = cv.imread('./images/logo.png')\n",
    "dst = cv.addWeighted(img1, 0.7, img2, 0.3, 0)\n",
    "cv.imshow('image', dst)\n",
    "cv.waitKey(0)\n",
    "cv.destroyAllWindows()"
   ]
  },
  {
   "cell_type": "markdown",
   "metadata": {},
   "source": [
    "[![5cvZQg.png](https://z3.ax1x.com/2021/10/22/5cvZQg.png)](https://imgtu.com/i/5cvZQg)"
   ]
  },
  {
   "cell_type": "markdown",
   "metadata": {},
   "source": [
    "## 按位运算\n",
    "这包括按位 AND、 OR、NOT 和 XOR 操作。它们在提取图像的任何部分(我们将在后面的章节中看到)、定义和处理非矩形 ROI 等方面非常有用。 下面我们将看到一个例子，如何改变一个图像的特定区域。 \n",
    "\n",
    "我想把 OpenCV 的标志放在一个图像上面。如果我添加两个图像，它会改变颜色。如果我混合它，我得到一个透明的效果。但我希望它是不透明的。如果是一个矩形区域，我可以使用 ROI，就像我们在上一章中所做的那样。但是 OpenCV 的 logo 不是长方形的。所以你可以使用如下的按位操作来实现:"
   ]
  },
  {
   "cell_type": "markdown",
   "metadata": {},
   "source": [
    "`cv.threshold()`<br>\n",
    "[![5gCvN9.png](https://z3.ax1x.com/2021/10/23/5gCvN9.png)](https://imgtu.com/i/5gCvN9) [![5gP9c6.png](https://z3.ax1x.com/2021/10/23/5gP9c6.png)](https://imgtu.com/i/5gP9c6)"
   ]
  },
  {
   "cell_type": "code",
   "execution_count": 22,
   "metadata": {},
   "outputs": [],
   "source": [
    "img1 = cv.imread('./images/messi1.png')\n",
    "img2 = cv.imread('./images/logo2.png')\n",
    "\n",
    "# 图像放在左上角 创建ROI\n",
    "rows, cols, channels = img2.shape\n",
    "roi = img1[0:rows, 0:cols]\n",
    "\n",
    "#创建logo的mask 和 相反掩码\n",
    "img2gray = cv.cvtColor(img2, cv.COLOR_BGR2GRAY)\n",
    "cv.imshow('image',img2gray)\n",
    "cv.waitKey(0)\n",
    "ret, mask = cv.threshold(img2gray, 254, 255, cv.THRESH_BINARY_INV) \n",
    "# 图像二值化 将图像上的像素点的灰度值设置为0或255，这样将使整个图像呈现出明显的黑白效果。\n",
    "# 在数字图像处理中，二值图像占有非常重要的地位，图像的二值化使图像中数据量大为减少，从而能凸显出目标的轮廓\n",
    "cv.imshow('image', mask)\n",
    "cv.waitKey(0)\n",
    "mask_inv = cv.bitwise_not(mask)\n",
    "cv.imshow('image', mask_inv)\n",
    "cv.waitKey(0)\n",
    "cv.destroyAllWindows()"
   ]
  },
  {
   "cell_type": "markdown",
   "metadata": {},
   "source": [
    "[![5gkVN4.png](https://z3.ax1x.com/2021/10/23/5gkVN4.png)](https://imgtu.com/i/5gkVN4)\n",
    "[![5gkZ4J.png](https://z3.ax1x.com/2021/10/23/5gkZ4J.png)](https://imgtu.com/i/5gkZ4J)\n",
    "[![5gkmC9.png](https://z3.ax1x.com/2021/10/23/5gkmC9.png)](https://imgtu.com/i/5gkmC9)"
   ]
  },
  {
   "cell_type": "code",
   "execution_count": 24,
   "metadata": {},
   "outputs": [],
   "source": [
    "# bitwise_and发生的是，蒙版的像素值为零(黑色)的空间位置在结果图像中变为像素值零。蒙版的像素值不为0的位置，结果图像将保留其原始灰度值。\n",
    "# 将ROI中的logo区域涂黑(0)\n",
    "img1_bg = cv.bitwise_and(roi, roi, mask=mask_inv)\n",
    "# 将logo颜色抠出\n",
    "img2_fg = cv.bitwise_and(img2, img2, mask=mask)\n",
    "dst = cv.add(img1_bg, img2_fg)\n",
    "img1[0:rows, 0:cols] = dst\n",
    "cv.imshow('image', img1)\n",
    "cv.waitKey(0)\n",
    "cv.destroyAllWindows()"
   ]
  },
  {
   "cell_type": "markdown",
   "metadata": {},
   "source": [
    "[![5gkBb8.png](https://z3.ax1x.com/2021/10/23/5gkBb8.png)](https://imgtu.com/i/5gkBb8)"
   ]
  }
 ],
 "metadata": {
  "interpreter": {
   "hash": "36016557d817544126ef24495ef0978491bf83ac7ee6a069809202ab5c141574"
  },
  "kernelspec": {
   "display_name": "Python 3.8.12 64-bit ('d2l': conda)",
   "name": "python3"
  },
  "language_info": {
   "codemirror_mode": {
    "name": "ipython",
    "version": 3
   },
   "file_extension": ".py",
   "mimetype": "text/x-python",
   "name": "python",
   "nbconvert_exporter": "python",
   "pygments_lexer": "ipython3",
   "version": "3.8.12"
  },
  "orig_nbformat": 4
 },
 "nbformat": 4,
 "nbformat_minor": 2
}
