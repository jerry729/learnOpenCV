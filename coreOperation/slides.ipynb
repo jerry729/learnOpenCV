{
 "cells": [
  {
   "cell_type": "code",
   "execution_count": 2,
   "metadata": {},
   "outputs": [],
   "source": [
    "import numpy as np\n",
    "import cv2 as cv\n",
    "\n",
    "i = 0\n",
    "path = './slides/' + str(i) + '.jpg'\n",
    "img1 = cv.imread(path)\n",
    "while True:\n",
    "    cv.imshow('image', img1)\n",
    "    key = cv.waitKey(1) & 0xFF\n",
    "    if key == 32:\n",
    "        if i != 3:\n",
    "            i += 1\n",
    "            path = './slides/' + str(i) + '.jpg'\n",
    "            img2 = cv.imread(path)\n",
    "            for j in np.arange(0.1, 1.1, 0.1):\n",
    "                dst = cv.addWeighted(img1, 1-j, img2, j, 0)\n",
    "                cv.imshow('image', dst)\n",
    "                cv.waitKey(50)\n",
    "            img1 = img2\n",
    "        else:\n",
    "            break\n",
    "cv.destroyAllWindows()\n"
   ]
  }
 ],
 "metadata": {
  "interpreter": {
   "hash": "36016557d817544126ef24495ef0978491bf83ac7ee6a069809202ab5c141574"
  },
  "kernelspec": {
   "display_name": "Python 3.8.12 64-bit ('d2l': conda)",
   "name": "python3"
  },
  "language_info": {
   "codemirror_mode": {
    "name": "ipython",
    "version": 3
   },
   "file_extension": ".py",
   "mimetype": "text/x-python",
   "name": "python",
   "nbconvert_exporter": "python",
   "pygments_lexer": "ipython3",
   "version": "3.8.12"
  },
  "orig_nbformat": 4
 },
 "nbformat": 4,
 "nbformat_minor": 2
}
